{
 "cells": [
  {
   "cell_type": "code",
   "execution_count": null,
   "id": "5dff20ed",
   "metadata": {},
   "outputs": [],
   "source": [
    "\n"
   ]
  },
  {
   "cell_type": "code",
   "execution_count": 1,
   "id": "3f2023b8",
   "metadata": {},
   "outputs": [
    {
     "name": "stdout",
     "output_type": "stream",
     "text": [
      "{'acknowledged': True}\n"
     ]
    }
   ],
   "source": [
    "from elasticsearch import Elasticsearch\n",
    "client = Elasticsearch(\n",
    "    \"https://my-elasticsearch-project-cff6bd.es.us-central1.gcp.elastic.cloud:443\",\n",
    "    api_key=\"aGdhV3JaZ0JhSEJ0RWhfNnRpQlI6SElfcDQ2dkYwbVgxaW5lSzRGN0Nydw==\"\n",
    ")\n",
    "index_name = \"haqdarshak\"\n",
    "mappings = {\n",
    "    \"properties\": {\n",
    "        \"text\": {\n",
    "            \"type\": \"semantic_text\"\n",
    "        }\n",
    "    }\n",
    "}\n",
    "mapping_response = client.indices.put_mapping(index=index_name, body=mappings)\n",
    "print(mapping_response)"
   ]
  },
  {
   "cell_type": "code",
   "execution_count": 3,
   "id": "ece10805",
   "metadata": {},
   "outputs": [
    {
     "name": "stdout",
     "output_type": "stream",
     "text": [
      "(3, [])\n"
     ]
    }
   ],
   "source": [
    "from elasticsearch import Elasticsearch, helpers\n",
    "client = Elasticsearch(\n",
    "    \"https://my-elasticsearch-project-cff6bd.es.us-central1.gcp.elastic.cloud:443\",\n",
    "    api_key=\"aGdhV3JaZ0JhSEJ0RWhfNnRpQlI6SElfcDQ2dkYwbVgxaW5lSzRGN0Nydw==\",\n",
    ")\n",
    "index_name = \"haqdarshak\"\n",
    "docs = [\n",
    "    {\n",
    "        \"text\": \"Yellowstone National Park \"\n",
    "    },\n",
    "    {\n",
    "        \"text\": \"Yosemite National Park is a United States National Park\"\n",
    "    },\n",
    "    {\n",
    "        \"text\": \"Rocky Mountain National Park  is one of the most popular national parks\"\n",
    "    }\n",
    "]\n",
    "# Timeout to allow machine learning model loading and semantic ingestion to complete\n",
    "ingestion_timeout=300\n",
    "bulk_response = helpers.bulk(\n",
    "    client.options(request_timeout=ingestion_timeout),\n",
    "    docs,\n",
    "    index=index_name\n",
    ")\n",
    "print(bulk_response)"
   ]
  },
  {
   "cell_type": "code",
   "execution_count": null,
   "id": "fb5fa3b8",
   "metadata": {},
   "outputs": [
    {
     "data": {
      "text/plain": [
       "ObjectApiResponse({'_index': 'haqdarshak', '_id': 'lgarrZgBaHBtEh_6mCAc', '_version': 2, 'result': 'deleted', '_shards': {'total': 1, 'successful': 1, 'failed': 0}, '_seq_no': 1, '_primary_term': 1})"
      ]
     },
     "execution_count": 6,
     "metadata": {},
     "output_type": "execute_result"
    }
   ],
   "source": [
    "client.delete(index=index_name, id=\"iQaprZgBaHBtEh_63iCH\")\n",
    "\n",
    "\n"
   ]
  },
  {
   "cell_type": "code",
   "execution_count": null,
   "id": "5cc789de",
   "metadata": {},
   "outputs": [],
   "source": []
  },
  {
   "cell_type": "code",
   "execution_count": null,
   "id": "91aa6c3d",
   "metadata": {},
   "outputs": [],
   "source": []
  }
 ],
 "metadata": {
  "kernelspec": {
   "display_name": "3.10.13",
   "language": "python",
   "name": "python3"
  },
  "language_info": {
   "codemirror_mode": {
    "name": "ipython",
    "version": 3
   },
   "file_extension": ".py",
   "mimetype": "text/x-python",
   "name": "python",
   "nbconvert_exporter": "python",
   "pygments_lexer": "ipython3",
   "version": "3.10.13"
  }
 },
 "nbformat": 4,
 "nbformat_minor": 5
}
