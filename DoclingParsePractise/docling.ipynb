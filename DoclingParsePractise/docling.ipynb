{
 "cells": [
  {
   "cell_type": "code",
   "execution_count": 1,
   "id": "9839ac5d",
   "metadata": {},
   "outputs": [],
   "source": [
    "import logging \n",
    "import time \n",
    "from pathlib import Path \n",
    "import warnings\n",
    "\n",
    "warnings.filterwarnings('ignore')\n"
   ]
  },
  {
   "cell_type": "code",
   "execution_count": 2,
   "id": "ed9d5575",
   "metadata": {},
   "outputs": [
    {
     "name": "stdout",
     "output_type": "stream",
     "text": [
      "mps gpu is enabled\n"
     ]
    }
   ],
   "source": [
    "#check if GPU or MPS is avaialable\n",
    "import torch\n",
    "\n",
    "if torch.cuda.is_available():\n",
    "   device=torch.device('cuda')\n",
    "   print(f\"cuda gup is enabled:{torch.cuda.get_device_name(0)}\")\n",
    "\n",
    "elif torch.backends.mps.is_available():\n",
    "   device=torch.device('mps')\n",
    "   print('mps gpu is enabled')\n",
    "else:\n",
    "   raise EnvironmentError(\n",
    "      'no GPU or MPS device found , Please check your environment and ensure GPU or MPS support is configured'\n",
    "   )"
   ]
  },
  {
   "cell_type": "code",
   "execution_count": 3,
   "id": "a9d5f7f3",
   "metadata": {},
   "outputs": [],
   "source": [
    "Source='./data/kone-sustainability-report-2023.pdf'\n",
    "first_10_pages='./data/report_10_pages.pdf'  # this will be used as the reference for the first 10 pages\n",
    "\n",
    "\n",
    "_log=logging.getLogger(__name__)\n"
   ]
  },
  {
   "cell_type": "code",
   "execution_count": 5,
   "id": "7537e53d",
   "metadata": {},
   "outputs": [],
   "source": [
    "## !pip install PyPDF2 \n",
    "\n",
    "from PyPDF2 import PdfReader,PdfWriter \n",
    "\n",
    "reader=PdfReader(Source)\n",
    "writer=PdfWriter()\n",
    "\n",
    "for page_num in range(min(10,len(reader.pages))):\n",
    "    writer.add_page(reader.pages[page_num])\n",
    "\n",
    "with open(first_10_pages,'wb') as output_pdf :\n",
    "     writer.write(output_pdf)"
   ]
  },
  {
   "cell_type": "code",
   "execution_count": 6,
   "id": "e3c0c45e",
   "metadata": {},
   "outputs": [
    {
     "name": "stdout",
     "output_type": "stream",
     "text": [
      "page 24 has been saved to data/page_25.pdf\n"
     ]
    }
   ],
   "source": [
    "from pathlib import Path \n",
    "from PyPDF2 import PdfReader,PdfWriter\n",
    "\n",
    "Source=Source \n",
    "Ouput=Path('./data/page_25.pdf')\n",
    "\n",
    "reader=PdfReader(Source)\n",
    "writer=PdfWriter()\n",
    "\n",
    "\n",
    "#ensure the requested page exists in the document \n",
    "if len(reader.pages)>=24:\n",
    "   writer.add_page(reader.pages[24])\n",
    "else:\n",
    "   print('the pdf does not container 24 pages')\n",
    "\n",
    "#save the extracted page to new pdf file \n",
    "with Ouput.open('wb') as output_pdf:\n",
    "   writer.write(output_pdf)\n",
    "\n",
    "print(f\"page 24 has been saved to {Ouput}\")\n",
    "\n"
   ]
  },
  {
   "cell_type": "code",
   "execution_count": 10,
   "id": "6dfd7019",
   "metadata": {},
   "outputs": [],
   "source": [
    "## !pip install docling \n",
    "\n",
    "from docling.document_converter import DocumentConverter\n",
    "\n",
    "converter=DocumentConverter() \n",
    "\n",
    "#save to markdown file \n",
    "\n"
   ]
  }
 ],
 "metadata": {
  "kernelspec": {
   "display_name": "3.10.13",
   "language": "python",
   "name": "python3"
  },
  "language_info": {
   "codemirror_mode": {
    "name": "ipython",
    "version": 3
   },
   "file_extension": ".py",
   "mimetype": "text/x-python",
   "name": "python",
   "nbconvert_exporter": "python",
   "pygments_lexer": "ipython3",
   "version": "3.10.13"
  }
 },
 "nbformat": 4,
 "nbformat_minor": 5
}
