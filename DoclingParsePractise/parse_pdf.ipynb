{
 "cells": [
  {
   "cell_type": "code",
   "execution_count": null,
   "id": "60219480",
   "metadata": {},
   "outputs": [],
   "source": [
    "import logging \n",
    "from pathlib import Path \n",
    "\n",
    "from docling.document_conveter import DocumentConveter ,PdfFormatOption \n",
    "from docling.datamodel.base_models import InputFormat \n",
    "from docling.chunking import HybridChunker \n",
    "from docling.datamodel.pipeline_options import PdfPipelineOptions ,TesseractOcrOptions \n",
    "from docling_core.types.doc import DoclingDocument,ImageRefMode \n",
    "\n",
    "import google.generativeai as genai\n",
    "\n",
    "import os\n",
    "import re \n",
    "import base64 \n",
    "from typing import List,Optional \n",
    "\n",
    "from pymongo import MongoClient \n",
    "from pymongo.errors import ConnectionFailure \n",
    "\n",
    "from datetime import datetime \n",
    "import pytz \n",
    "\n",
    "\n"
   ]
  },
  {
   "cell_type": "code",
   "execution_count": null,
   "id": "aa555d2a",
   "metadata": {},
   "outputs": [],
   "source": [
    "logging.basicConfig(level=logging.DEBUG,format='%(asctime)s - %(levelname)s - %(message)s')\n",
    "_log=logging.getLogger(__name__)\n"
   ]
  },
  {
   "cell_type": "code",
   "execution_count": null,
   "id": "b9314e95",
   "metadata": {},
   "outputs": [],
   "source": [
    "SOURCE=''\n",
    "pdf_path=SOURCE\n"
   ]
  },
  {
   "cell_type": "code",
   "execution_count": null,
   "id": "1e78871d",
   "metadata": {},
   "outputs": [],
   "source": [
    "pipeline_options=PdfPipelineOptions(\n",
    "    do_table_structure=True,\n",
    "    do_ocr=True,\n",
    "    ocr_options=TesseractOcrOptions(lang=['eng','hin']),\n",
    "    generate_page_images=True,\n",
    "    generate_picture_images=True,\n",
    "    images_scale=3.0 \n",
    ")"
   ]
  },
  {
   "cell_type": "code",
   "execution_count": null,
   "id": "1e0d5eae",
   "metadata": {},
   "outputs": [],
   "source": [
    "doc_converter=DocumentConveter(\n",
    "    format_options={\n",
    "        InputFormat.PDF: PdfFormatOption(pipeline_options=pipeline_options)\n",
    "    }\n",
    ")"
   ]
  },
  {
   "cell_type": "code",
   "execution_count": null,
   "id": "d5c76b45",
   "metadata": {},
   "outputs": [],
   "source": [
    "def clean_ocr_text(text:str)->str:\n",
    "    '''clean up unicode escape sequences and glyph IDs from OCR options'''\n",
    "    unicode_map={\n",
    "        'uni092F': 'य', 'uni093F': 'ि', 'uni092Fा': 'या', 'uni093F/g7021': '',\n",
    "        'uni0927': 'ध',\n",
    "    }\n",
    "    text=re.sub(r'/g\\d{4}','',text)\n",
    "    for code,char in unicode_map.items():\n",
    "          text = re.sub(r'/uni[0-9A-Fa-f]{4}', '', text)\n",
    "          text = re.sub(r'\\s+', ' ', text).strip()\n",
    "    return text "
   ]
  },
  {
   "cell_type": "code",
   "execution_count": null,
   "id": "ad43df05",
   "metadata": {},
   "outputs": [],
   "source": [
    "#connect to mongodb \n",
    "mongo_uri='mongodb://127/.0.0.1:27017/Markdown-parsed'\n",
    "\n",
    "try:\n",
    "    client=MongoClient(mongo_uri,serverSelectionTimeoutMS=5000)\n",
    "    markdown_db=client['Markdown-parsed']\n",
    "    posts_db=client['postReviewSystem']\n",
    "    markdown_collection=markdown_db['markdown_files']\n",
    "    posts_collection=posts_db['posts']\n",
    "    client.list_database_names() \n",
    "    _log.info(f\"connected to mongodb at {mongo_uri}\")\n",
    "except ConnectionFailure as e:\n",
    "    _log.error(f\"connected to mongodb at {mongo_uri}\")\n",
    "    exit(1)"
   ]
  },
  {
   "cell_type": "code",
   "execution_count": null,
   "id": "529886bb",
   "metadata": {},
   "outputs": [],
   "source": [
    "try:\n",
    "    result=doc_converter.convert(SOURCE)\n",
    "    raw_text=result.document.text if hasattr(result.document,'text') else 'no text attribute'\n",
    "    _log.debug(f'raw extarcted text (forst 500 chars ): {raw_text[:500]}')\n",
    "    if hasattr(result.document,'text'):\n",
    "       result.document.text=clean_ocr_text(raw_text)\n",
    "\n",
    "except FileNotFoundError:\n",
    "       _log.error(f\"pdf file not found at {SOURCE}\")\n",
    "       exit(1)\n",
    "       \n",
    "except Exception as e:\n",
    "       _log.error(f'error during document conversion {e}')\n",
    "       exit(1)"
   ]
  },
  {
   "cell_type": "code",
   "execution_count": 4,
   "id": "cac62fee",
   "metadata": {},
   "outputs": [
    {
     "ename": "NameError",
     "evalue": "name 'Path' is not defined",
     "output_type": "error",
     "traceback": [
      "\u001b[0;31m---------------------------------------------------------------------------\u001b[0m",
      "\u001b[0;31mNameError\u001b[0m                                 Traceback (most recent call last)",
      "Cell \u001b[0;32mIn[4], line 1\u001b[0m\n\u001b[0;32m----> 1\u001b[0m output_dir\u001b[38;5;241m=\u001b[39m\u001b[43mPath\u001b[49m(\u001b[38;5;124m'\u001b[39m\u001b[38;5;124mparsed-doc\u001b[39m\u001b[38;5;124m'\u001b[39m)\n\u001b[1;32m      2\u001b[0m output_dir\u001b[38;5;241m.\u001b[39mmkdir(parents\u001b[38;5;241m=\u001b[39m\u001b[38;5;28;01mTrue\u001b[39;00m,exist_ok\u001b[38;5;241m=\u001b[39m\u001b[38;5;28;01mTrue\u001b[39;00m)\n\u001b[1;32m      3\u001b[0m doc_filename\u001b[38;5;241m=\u001b[39mPath(SOURCE)\u001b[38;5;241m.\u001b[39mstem \n",
      "\u001b[0;31mNameError\u001b[0m: name 'Path' is not defined"
     ]
    }
   ],
   "source": [
    "output_dir=Path('parsed-doc')\n",
    "output_dir.mkdir(parents=True,exist_ok=True)\n",
    "doc_filename=Path(SOURCE).stem \n",
    "md_filename =output_dir/f'(doc_filename)-with-images.md '\n",
    "\n",
    "try:\n",
    "    result.document.save_as_markdown(md_filename,image_mode=ImageRefMode.EMBEDDED)\n",
    "    _log.info(f'markdown content has been saved to {md_filename}')\n",
    "    \n",
    "except Exception as e:\n",
    "    _log.error(f'error saving markdown {e}')\n",
    "    exit(1)"
   ]
  },
  {
   "cell_type": "code",
   "execution_count": null,
   "id": "640c5cf5",
   "metadata": {},
   "outputs": [],
   "source": [
    "image_dir=output_dir/'images'\n",
    "image_dir.mkdir(parents=True,exist_ok=True)\n",
    "\n",
    "try:\n",
    "    with open(md_filename,'r',encoding='utf-8') as f:\n",
    "        markdown_content=f.read() \n",
    "        markdown_content=clean_ocr_text(markdown_content)\n",
    "        _log.debug(f'cleaned markdown content (first 500 character ):{markdown_content[:500]}')\n",
    "        _log.debug(f\"total length of markdown_content:{len(markdown_content)} characters\")\n",
    "\n",
    "except Exception as e:\n",
    "       _log.error(f'error reading markdown file :{e}')\n",
    "       exit(1)"
   ]
  },
  {
   "cell_type": "code",
   "execution_count": null,
   "id": "0106302d",
   "metadata": {},
   "outputs": [
    {
     "ename": "SyntaxError",
     "evalue": "incomplete input (516051123.py, line 8)",
     "output_type": "error",
     "traceback": [
      "\u001b[0;36m  Cell \u001b[0;32mIn[5], line 8\u001b[0;36m\u001b[0m\n\u001b[0;31m    try:\u001b[0m\n\u001b[0m        ^\u001b[0m\n\u001b[0;31mSyntaxError\u001b[0m\u001b[0;31m:\u001b[0m incomplete input\n"
     ]
    }
   ],
   "source": [
    "def process_base64_images(content:str,image_dir:Path,doc_filename:str)->str:\n",
    "    '''decode base64 images save them and update markdown content with refrences of images attached  '''\n",
    "    base64_pattern = r'!\\[(.*?)\\]\\(data:image/(\\w+);base64,([^)]+)\\)'\n",
    "    updated_content=content\n",
    "    image_count=0 \n",
    "    for match in re.finditer(base64_pattern,content):\n",
    "        alt_text ,image_type,base64_data=match.groups() \n",
    "        try:\n",
    "            image_data=base64.b64decode(base64_data)\n",
    "            image_filename=f'{doc_filename}_image_{image_count}.{image_type}'\n",
    "            image_path = image_dir / image_filename\n",
    "            with open(image_path, 'wb') as f:\n",
    "                f.write(image_data)\n",
    "            _log.info(f\"Saved image to {image_path}\")\n",
    "            relative_image_path = f\"images/{image_filename}\"\n",
    "            updated_content = updated_content.replace(match.group(0), f\"![{alt_text}]({relative_image_path})\")\n",
    "            image_count += 1\n",
    "        except Exception as e:\n",
    "            _log.error(f'error decoding base64 images {image_count} :{e}')\n",
    "            continue \n",
    "updated_md_filename=output_dir/f\"{doc_filename}-with-images-links.md\"\n"
   ]
  },
  {
   "cell_type": "code",
   "execution_count": null,
   "id": "16416303",
   "metadata": {},
   "outputs": [],
   "source": []
  },
  {
   "cell_type": "code",
   "execution_count": null,
   "id": "0a0d73d9",
   "metadata": {},
   "outputs": [],
   "source": []
  },
  {
   "cell_type": "code",
   "execution_count": null,
   "id": "f279057c",
   "metadata": {},
   "outputs": [],
   "source": []
  },
  {
   "cell_type": "code",
   "execution_count": null,
   "id": "d2e917ee",
   "metadata": {},
   "outputs": [],
   "source": []
  },
  {
   "cell_type": "code",
   "execution_count": null,
   "id": "021c61e3",
   "metadata": {},
   "outputs": [],
   "source": []
  },
  {
   "cell_type": "code",
   "execution_count": null,
   "id": "283eb58a",
   "metadata": {},
   "outputs": [],
   "source": []
  },
  {
   "cell_type": "code",
   "execution_count": null,
   "id": "090516d3",
   "metadata": {},
   "outputs": [],
   "source": []
  }
 ],
 "metadata": {
  "kernelspec": {
   "display_name": "3.10.13",
   "language": "python",
   "name": "python3"
  },
  "language_info": {
   "codemirror_mode": {
    "name": "ipython",
    "version": 3
   },
   "file_extension": ".py",
   "mimetype": "text/x-python",
   "name": "python",
   "nbconvert_exporter": "python",
   "pygments_lexer": "ipython3",
   "version": "3.10.13"
  }
 },
 "nbformat": 4,
 "nbformat_minor": 5
}
