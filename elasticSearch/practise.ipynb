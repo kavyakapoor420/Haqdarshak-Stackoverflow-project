{
 "cells": [
  {
   "cell_type": "code",
   "execution_count": null,
   "id": "f2f3d017",
   "metadata": {},
   "outputs": [],
   "source": [
    "from elasticsearch import Elasticsearch\n",
    "\n",
    "es=Elasticsearch(\n",
    "  ['http://localhost:9200']\n",
    ")\n",
    "\n",
    "#check if connection is established successfully \n",
    "if es.ping():\n",
    "    print(\"connected to elasticsearch\")\n",
    "else:\n",
    "    print(\"connection failed check if elastic search is running\")"
   ]
  },
  {
   "cell_type": "code",
   "execution_count": null,
   "id": "812aa228",
   "metadata": {},
   "outputs": [],
   "source": [
    "#create an index \n",
    "\n",
    "from elasticsearch import Elasticsearch \n",
    "\n",
    "es=Elasticsearch(['http://localhost:9200'])\n",
    "\n",
    "index_name='hello'\n",
    "\n",
    "if not es.indices.exists(index=index_name):\n",
    "    es.indices.create(index=index_name)\n",
    "    print(f\"index '{index_name}' created successfully\")\n",
    "else :\n",
    "    print(f\"index '{index_name}' already exists\")"
   ]
  },
  {
   "cell_type": "code",
   "execution_count": null,
   "id": "dfb819e3",
   "metadata": {},
   "outputs": [],
   "source": [
    "#adding documents to an index\n",
    "from elasticsearch import Elasticsearch \n",
    "\n",
    "es=Elasticsearch(['http://localhost:9200'])\n",
    "\n",
    "index_name='movies'\n",
    "\n",
    "movie={\n",
    "    \"title\":\"3 Idiots\",\n",
    "    \"director\":\"christopher nolan\",\n",
    "    \"year\":2009,\n",
    "    \"genre\":['Sci-fi','Thriller']\n",
    "}\n",
    "\n",
    "#index the document \n",
    "response=es.index(index=index_name,document=movie)\n",
    "print(f\"document indexed:{response['result']}\")\n"
   ]
  },
  {
   "cell_type": "code",
   "execution_count": null,
   "id": "eda9e9b9",
   "metadata": {},
   "outputs": [],
   "source": [
    "#index multiple document \n"
   ]
  },
  {
   "cell_type": "code",
   "execution_count": null,
   "id": "e7486f41",
   "metadata": {},
   "outputs": [],
   "source": []
  },
  {
   "cell_type": "code",
   "execution_count": null,
   "id": "02839607",
   "metadata": {},
   "outputs": [],
   "source": []
  }
 ],
 "metadata": {
  "language_info": {
   "name": "python"
  }
 },
 "nbformat": 4,
 "nbformat_minor": 5
}
