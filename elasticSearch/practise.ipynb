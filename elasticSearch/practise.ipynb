{
 "cells": [
  {
   "cell_type": "code",
   "execution_count": null,
   "id": "f2f3d017",
   "metadata": {},
   "outputs": [],
   "source": [
    "from elasticsearch import Elasticsearch\n",
    "\n",
    "es=Elasticsearch(\n",
    "  ['http://localhost:9200']\n",
    ")\n",
    "\n",
    "#check if connection is established successfully \n",
    "if es.ping():\n",
    "    print(\"connected to elasticsearch\")\n",
    "else:\n",
    "    print(\"connection failed check if elastic search is running\")"
   ]
  },
  {
   "cell_type": "code",
   "execution_count": null,
   "id": "812aa228",
   "metadata": {},
   "outputs": [],
   "source": [
    "#create an index \n",
    "\n",
    "from elasticsearch import Elasticsearch \n",
    "\n",
    "es=Elasticsearch(['http://localhost:9200'])\n",
    "\n",
    "index_name='hello'\n",
    "\n",
    "if not es.indices.exists(index=index_name):\n",
    "    es.indices.create(index=index_name)\n",
    "    print(f\"index '{index_name}' created successfully\")\n",
    "else :\n",
    "    print(f\"index '{index_name}' already exists\")"
   ]
  },
  {
   "cell_type": "code",
   "execution_count": null,
   "id": "dfb819e3",
   "metadata": {},
   "outputs": [],
   "source": [
    "#adding documents to an index\n",
    "from elasticsearch import Elasticsearch \n",
    "\n",
    "es=Elasticsearch(['http://localhost:9200'])\n",
    "\n",
    "index_name='movies'\n",
    "\n",
    "movie={\n",
    "    \"title\":\"3 Idiots\",\n",
    "    \"director\":\"christopher nolan\",\n",
    "    \"year\":2009,\n",
    "    \"genre\":['Sci-fi','Thriller']\n",
    "}\n",
    "\n",
    "#index the document \n",
    "response=es.index(index=index_name,document=movie)\n",
    "print(f\"document indexed:{response['result']}\")\n"
   ]
  },
  {
   "cell_type": "code",
   "execution_count": null,
   "id": "eda9e9b9",
   "metadata": {},
   "outputs": [],
   "source": [
    "#index multiple document \n",
    "#adding movies in bulk for efficiency\n",
    "from elasticsearch import Elasticsearch,helpers\n",
    "\n",
    "es=Elasticsearch(['http://localhost:9200'])\n",
    "index_name='hello'\n",
    "\n",
    "movies=[\n",
    "    {\n",
    "        \"_index\":index_name,\n",
    "        \"_source\": {\n",
    "            \"title\": \"The Matrix\",\n",
    "            \"director\": \"Wachowski Sisters\",\n",
    "            \"year\": 1999,\n",
    "            \"genre\": [\"Sci-Fi\", \"Action\"]\n",
    "        }\n",
    "    },\n",
    "    {\n",
    "        \"_index\":index_name,\n",
    "        \"_source\": {\n",
    "            \"title\": \"Pulp Fiction\",\n",
    "            \"director\": \"Quentin Tarantino\",\n",
    "            \"year\": 1994,\n",
    "            \"genre\": [\"Crime\", \"Drama\"]\n",
    "        }\n",
    "    }\n",
    "]\n",
    "\n",
    "#bulk index of documents \n",
    "success,failed=helpers.bulk(es,movies)\n",
    "\n",
    "print(f\"indexed {success} documents successfully ,{failed } failed\")\n"
   ]
  },
  {
   "cell_type": "code",
   "execution_count": null,
   "id": "e7486f41",
   "metadata": {},
   "outputs": [],
   "source": [
    "#searching a document \n",
    "from elasticsearch import Elasticsearch \n",
    "\n",
    "es=Elasticsearch(['http://localhost:9200'])\n",
    "index_name='hello'\n",
    "\n",
    "#define search query \n",
    "query={\n",
    "   \"query\":{\n",
    "       \"match\":{\n",
    "           \"title\":\"The Matrix\"\n",
    "       }\n",
    "   }\n",
    "}\n",
    "\n",
    "response=es.search(index=index_name,body=query)\n",
    "\n",
    "for hit in response[\"hits\"][\"hits\"]:\n",
    "    print(f\"Title: {hit['_source']['title']}, Director: {hit['_source']['director']}\")\n",
    "    \n"
   ]
  },
  {
   "cell_type": "code",
   "execution_count": null,
   "id": "49321e12",
   "metadata": {},
   "outputs": [],
   "source": []
  },
  {
   "cell_type": "code",
   "execution_count": null,
   "id": "199a2e18",
   "metadata": {},
   "outputs": [],
   "source": []
  },
  {
   "cell_type": "code",
   "execution_count": null,
   "id": "261ab42e",
   "metadata": {},
   "outputs": [],
   "source": []
  },
  {
   "cell_type": "code",
   "execution_count": null,
   "id": "da27c384",
   "metadata": {},
   "outputs": [],
   "source": []
  },
  {
   "cell_type": "code",
   "execution_count": null,
   "id": "beca8b5c",
   "metadata": {},
   "outputs": [],
   "source": []
  },
  {
   "cell_type": "code",
   "execution_count": null,
   "id": "02839607",
   "metadata": {},
   "outputs": [],
   "source": []
  }
 ],
 "metadata": {
  "language_info": {
   "name": "python"
  }
 },
 "nbformat": 4,
 "nbformat_minor": 5
}
