{
 "cells": [
  {
   "cell_type": "code",
   "execution_count": 11,
   "id": "2f400f4c",
   "metadata": {},
   "outputs": [
    {
     "name": "stdout",
     "output_type": "stream",
     "text": [
      "Found existing installation: elasticsearch 8.13.0\n",
      "Uninstalling elasticsearch-8.13.0:\n",
      "  Would remove:\n",
      "    /Users/ridhimakapoor/Downloads/webEaseAI 2/.venv/lib/python3.13/site-packages/elasticsearch-8.13.0.dist-info/*\n",
      "    /Users/ridhimakapoor/Downloads/webEaseAI 2/.venv/lib/python3.13/site-packages/elasticsearch/*\n",
      "Proceed (Y/n)? ^C\n"
     ]
    }
   ],
   "source": [
    "## !pip install elasticsearch \n",
    "\n",
    "!pip uninstall elasticsearch\n",
    "# !pip install elasticsearch==8.13.0\n",
    "\n",
    "\n",
    "# from elasticsearch import Elasticsearch \n",
    "\n",
    "# es=Elasticsearch('http://localhost:9200')\n",
    "\n",
    "# doc={\n",
    "#     \"title\":\"learning elasticsearch\",\n",
    "#     \"author\":'kavya kapoor ',\n",
    "#     \"tags\":['search','database','reactjs'],\n",
    "#     \"published\":True\n",
    "# }\n",
    "\n",
    "# res=es.index(index='articles',document=doc)\n",
    "\n",
    "# print(\"document indexed\",res['result'])\n",
    "\n"
   ]
  },
  {
   "cell_type": "code",
   "execution_count": 1,
   "id": "4026e479",
   "metadata": {},
   "outputs": [
    {
     "name": "stdout",
     "output_type": "stream",
     "text": [
      "Collecting elasticsearch==8.13.0\n",
      "  Downloading elasticsearch-8.13.0-py3-none-any.whl (451 kB)\n",
      "\u001b[2K     \u001b[90m━━━━━━━━━━━━━━━━━━━━━━━━━━━━━━━━━━━━━━━\u001b[0m \u001b[32m451.0/451.0 kB\u001b[0m \u001b[31m7.5 MB/s\u001b[0m eta \u001b[36m0:00:00\u001b[0ma \u001b[36m0:00:01\u001b[0m\n",
      "\u001b[?25hCollecting elastic-transport<9,>=8.13\n",
      "  Downloading elastic_transport-8.17.1-py3-none-any.whl (64 kB)\n",
      "\u001b[2K     \u001b[90m━━━━━━━━━━━━━━━━━━━━━━━━━━━━━━━━━━━━━━━━\u001b[0m \u001b[32m65.0/65.0 kB\u001b[0m \u001b[31m7.7 MB/s\u001b[0m eta \u001b[36m0:00:00\u001b[0m\n",
      "\u001b[?25hRequirement already satisfied: urllib3<3,>=1.26.2 in /Users/ridhimakapoor/.pyenv/versions/3.10.13/lib/python3.10/site-packages (from elastic-transport<9,>=8.13->elasticsearch==8.13.0) (2.5.0)\n",
      "Requirement already satisfied: certifi in /Users/ridhimakapoor/.pyenv/versions/3.10.13/lib/python3.10/site-packages (from elastic-transport<9,>=8.13->elasticsearch==8.13.0) (2025.7.14)\n",
      "Installing collected packages: elastic-transport, elasticsearch\n",
      "Successfully installed elastic-transport-8.17.1 elasticsearch-8.13.0\n",
      "\n",
      "\u001b[1m[\u001b[0m\u001b[34;49mnotice\u001b[0m\u001b[1;39;49m]\u001b[0m\u001b[39;49m A new release of pip is available: \u001b[0m\u001b[31;49m23.0.1\u001b[0m\u001b[39;49m -> \u001b[0m\u001b[32;49m25.1.1\u001b[0m\n",
      "\u001b[1m[\u001b[0m\u001b[34;49mnotice\u001b[0m\u001b[1;39;49m]\u001b[0m\u001b[39;49m To update, run: \u001b[0m\u001b[32;49mpip install --upgrade pip\u001b[0m\n"
     ]
    }
   ],
   "source": [
    "!pip install elasticsearch==8.13.0 "
   ]
  },
  {
   "cell_type": "code",
   "execution_count": 3,
   "id": "cc338da8",
   "metadata": {},
   "outputs": [
    {
     "name": "stderr",
     "output_type": "stream",
     "text": [
      "/var/folders/jv/y53y8q5n79lbb9098f2lgbjr0000gn/T/ipykernel_7785/3700701869.py:5: DeprecationWarning: Passing transport options in the API method is deprecated. Use 'Elasticsearch.options()' instead.\n",
      "  es.indices.create(index='products',ignore=400)\n"
     ]
    }
   ],
   "source": [
    "from elasticsearch import Elasticsearch \n",
    "\n",
    "es=Elasticsearch('http://localhost:9200')\n",
    "\n",
    "es.indices.create(index='products',ignore=400)\n",
    "\n",
    "#index of document \n",
    "query = {\n",
    "    \"query\": {\n",
    "        \"match\": {\n",
    "            \"name\": \"Smartphone\"\n",
    "        }\n",
    "    }\n",
    "}\n",
    "\n",
    "result=es.search(index='products',body=query)\n",
    "\n",
    "for hit in result[\"hits\"][\"hits\"]:\n",
    "    print(hit[\"_source\"])\n",
    "\n"
   ]
  },
  {
   "cell_type": "code",
   "execution_count": 11,
   "id": "4973e75c",
   "metadata": {},
   "outputs": [],
   "source": [
    "from elasticsearch import Elasticsearch"
   ]
  },
  {
   "cell_type": "code",
   "execution_count": 12,
   "id": "4be37d4f",
   "metadata": {},
   "outputs": [
    {
     "name": "stdout",
     "output_type": "stream",
     "text": [
      "{'error': {'root_cause': [{'type': 'resource_already_exists_exception', 'reason': 'index [kavyakapoor/MfRK7SVSSFa9mJrXxPcprQ] already exists', 'index_uuid': 'MfRK7SVSSFa9mJrXxPcprQ', 'index': 'kavyakapoor'}], 'type': 'resource_already_exists_exception', 'reason': 'index [kavyakapoor/MfRK7SVSSFa9mJrXxPcprQ] already exists', 'index_uuid': 'MfRK7SVSSFa9mJrXxPcprQ', 'index': 'kavyakapoor'}, 'status': 400}\n"
     ]
    },
    {
     "name": "stderr",
     "output_type": "stream",
     "text": [
      "/var/folders/jv/y53y8q5n79lbb9098f2lgbjr0000gn/T/ipykernel_7785/3236644579.py:4: DeprecationWarning: Passing transport options in the API method is deprecated. Use 'Elasticsearch.options()' instead.\n",
      "  response = es.indices.create(index=\"kavyakapoor\", ignore=400)\n"
     ]
    }
   ],
   "source": [
    "es = Elasticsearch([\"http://localhost:9200\"])\n",
    "\n",
    "# Create an index (ignore if it already exists)\n",
    "response = es.indices.create(index=\"kavyakapoor\", ignore=400)\n",
    "print(response)"
   ]
  },
  {
   "cell_type": "code",
   "execution_count": 13,
   "id": "fec139f9",
   "metadata": {},
   "outputs": [
    {
     "name": "stdout",
     "output_type": "stream",
     "text": [
      "document indexed {'_index': 'kavyakapoor', '_id': 'wgDJS5gBvk8Oa7WtEV5x', '_version': 1, 'result': 'created', '_shards': {'total': 2, 'successful': 1, 'failed': 0}, '_seq_no': 2, '_primary_term': 1}\n"
     ]
    }
   ],
   "source": [
    "#index of document \n",
    "doc={\n",
    "    \"name\":\"laptop\",\n",
    "    \"price\":3000,\n",
    "    \"category\":'electronics'\n",
    "}\n",
    "\n",
    "response=es.index(index='kavyakapoor',document=doc)\n",
    "print(\"document indexed\",response )\n"
   ]
  },
  {
   "cell_type": "code",
   "execution_count": 18,
   "id": "b0af7b8e",
   "metadata": {},
   "outputs": [
    {
     "name": "stdout",
     "output_type": "stream",
     "text": [
      "{'name': 'laptop', 'price': 3000, 'category': 'electronics'}\n"
     ]
    }
   ],
   "source": [
    "response=es.get(index=\"kavyakapoor\",id='wgDJS5gBvk8Oa7WtEV5x')\n",
    "print(response['_source'])"
   ]
  },
  {
   "cell_type": "code",
   "execution_count": 23,
   "id": "34d19c0f",
   "metadata": {},
   "outputs": [
    {
     "name": "stdout",
     "output_type": "stream",
     "text": [
      "{'name': 'laptop', 'price': 3000, 'category': 'electronics'}\n",
      "{'name': 'laptop', 'price': 3000, 'category': 'electronics'}\n",
      "{'name': 'laptop', 'price': 3000, 'category': 'electronics'}\n"
     ]
    }
   ],
   "source": [
    "# search from documents \n",
    "query={\n",
    "    \"query\":{\n",
    "        \"match\":{\n",
    "            \"name\":'laptop'\n",
    "        }\n",
    "    }\n",
    "}\n",
    "\n",
    "response=es.search(index='kavyakapoor',body=query)\n",
    "\n",
    "for hit in response['hits']['hits'] :\n",
    "    print(hit['_source'])\n"
   ]
  },
  {
   "cell_type": "code",
   "execution_count": 26,
   "id": "268e5fd1",
   "metadata": {},
   "outputs": [
    {
     "name": "stdout",
     "output_type": "stream",
     "text": [
      "document updated {'_index': 'kavyakapoor', '_id': 'wgDJS5gBvk8Oa7WtEV5x', '_version': 2, 'result': 'noop', '_shards': {'total': 0, 'successful': 0, 'failed': 0}, '_seq_no': 3, '_primary_term': 1}\n",
      "{'name': 'laptop25', 'price': 3000, 'category': 'electronics'}\n"
     ]
    }
   ],
   "source": [
    "#update the price of document with id 'wgDJS5gBvk8Oa7WtEV5x'\n",
    "\n",
    "updated_doc={\n",
    "    \"doc\":{\n",
    "        \"name\":'laptop25'\n",
    "    }\n",
    "}\n",
    "\n",
    "response=es.update(index='kavyakapoor',id='wgDJS5gBvk8Oa7WtEV5x',body=updated_doc)\n",
    "\n",
    "print(\"document updated\",response)\n",
    "\n",
    "query={\n",
    "    \"query\":{\n",
    "        \"match\":{\n",
    "            \"name\":'laptop25'\n",
    "        }\n",
    "    }\n",
    "}\n",
    "\n",
    "response=es.search(index='kavyakapoor',body=query)\n",
    "\n",
    "for hit in response['hits']['hits'] :\n",
    "    print(hit['_source'])\n"
   ]
  },
  {
   "cell_type": "code",
   "execution_count": 28,
   "id": "62ec0c92",
   "metadata": {},
   "outputs": [
    {
     "name": "stdout",
     "output_type": "stream",
     "text": [
      "document deleted {'_index': 'kavyakapoor', '_id': 'wgDJS5gBvk8Oa7WtEV5x', '_version': 3, 'result': 'deleted', '_shards': {'total': 2, 'successful': 1, 'failed': 0}, '_seq_no': 4, '_primary_term': 1}\n"
     ]
    }
   ],
   "source": [
    "#delete a document \n",
    "response=es.delete(index='kavyakapoor',id='wgDJS5gBvk8Oa7WtEV5x')\n",
    "print(\"document deleted\",response)\n"
   ]
  },
  {
   "cell_type": "code",
   "execution_count": 29,
   "id": "c0a2cde0",
   "metadata": {},
   "outputs": [
    {
     "name": "stdout",
     "output_type": "stream",
     "text": [
      "{'acknowledged': True}\n"
     ]
    },
    {
     "name": "stderr",
     "output_type": "stream",
     "text": [
      "/var/folders/jv/y53y8q5n79lbb9098f2lgbjr0000gn/T/ipykernel_7785/3710523964.py:2: DeprecationWarning: Passing transport options in the API method is deprecated. Use 'Elasticsearch.options()' instead.\n",
      "  response=es.indices.delete(index='kavyakapoor',ignore=[400,404])\n"
     ]
    }
   ],
   "source": [
    "#delete index \n",
    "response=es.indices.delete(index='kavyakapoor',ignore=[400,404])\n",
    "print(response)\n"
   ]
  },
  {
   "cell_type": "code",
   "execution_count": 36,
   "id": "175076f7",
   "metadata": {},
   "outputs": [],
   "source": [
    "#index of multiple documents \n",
    "docs=[\n",
    "    {\"name\": \"Smartphone\", \"price\": 599.99, \"category\": \"Electronics\"},\n",
    "    {\"name\": \"Headphones\", \"price\": 199.99, \"category\": \"Electronics\"},\n",
    "    {\"name\": \"T-Shirt\", \"price\": 29.99, \"category\": \"Clothing\"}\n",
    "]\n",
    "\n",
    "for i,doc in enumerate(docs,start=2):\n",
    "    es.index(index='kavyakapoor',id=i,body=doc)\n"
   ]
  },
  {
   "cell_type": "code",
   "execution_count": 37,
   "id": "8fa7c9b1",
   "metadata": {},
   "outputs": [],
   "source": [
    "# Search with filters\n",
    "query = {\n",
    "    \"query\": {\n",
    "        \"bool\": {\n",
    "            \"filter\": [\n",
    "                {\"term\": {\"category\": \"Electronics\"}},\n",
    "                {\"range\": {\"price\": {\"lte\": 600}}}\n",
    "            ]\n",
    "        }\n",
    "    }\n",
    "}\n",
    "response = es.search(index=\"products\", body=query)\n",
    "for hit in response[\"hits\"][\"hits\"]:\n",
    "    print(hit[\"_source\"])\n",
    "\n"
   ]
  },
  {
   "cell_type": "code",
   "execution_count": 35,
   "id": "cc0dd692",
   "metadata": {},
   "outputs": [
    {
     "name": "stderr",
     "output_type": "stream",
     "text": [
      "/var/folders/jv/y53y8q5n79lbb9098f2lgbjr0000gn/T/ipykernel_7785/2875668922.py:2: DeprecationWarning: Passing transport options in the API method is deprecated. Use 'Elasticsearch.options()' instead.\n",
      "  es.indices.create(index=\"books\", ignore=400)\n"
     ]
    }
   ],
   "source": [
    "\n",
    "# Create books index and add documents\n",
    "es.indices.create(index=\"books\", ignore=400)\n",
    "books = [\n",
    "    {\"title\": \"Harry Potter\", \"author\": \"J.K. Rowling\", \"year\": 1997},\n",
    "    {\"title\": \"The Hobbit\", \"author\": \"J.R.R. Tolkien\", \"year\": 1937},\n",
    "    {\"title\": \"1984\", \"author\": \"George Orwell\", \"year\": 1949}\n",
    "]\n",
    "for i, book in enumerate(books, start=1):\n",
    "    es.index(index=\"books\", id=i, body=book)"
   ]
  },
  {
   "cell_type": "code",
   "execution_count": null,
   "id": "0c7b921c",
   "metadata": {},
   "outputs": [],
   "source": []
  },
  {
   "cell_type": "code",
   "execution_count": null,
   "id": "64907c41",
   "metadata": {},
   "outputs": [],
   "source": [
    "\n",
    " "
   ]
  }
 ],
 "metadata": {
  "kernelspec": {
   "display_name": "3.10.13",
   "language": "python",
   "name": "python3"
  },
  "language_info": {
   "codemirror_mode": {
    "name": "ipython",
    "version": 3
   },
   "file_extension": ".py",
   "mimetype": "text/x-python",
   "name": "python",
   "nbconvert_exporter": "python",
   "pygments_lexer": "ipython3",
   "version": "3.10.13"
  }
 },
 "nbformat": 4,
 "nbformat_minor": 5
}
