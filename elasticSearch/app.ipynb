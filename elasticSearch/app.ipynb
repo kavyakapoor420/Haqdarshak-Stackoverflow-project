{
 "cells": [
  {
   "cell_type": "code",
   "execution_count": null,
   "id": "2f400f4c",
   "metadata": {},
   "outputs": [
    {
     "name": "stdout",
     "output_type": "stream",
     "text": [
      "Found existing installation: elasticsearch 9.0.2\n",
      "Uninstalling elasticsearch-9.0.2:\n",
      "  Would remove:\n",
      "    /Users/ridhimakapoor/Downloads/webEaseAI 2/.venv/lib/python3.13/site-packages/elasticsearch-9.0.2.dist-info/*\n",
      "    /Users/ridhimakapoor/Downloads/webEaseAI 2/.venv/lib/python3.13/site-packages/elasticsearch/*\n",
      "Proceed (Y/n)? "
     ]
    }
   ],
   "source": [
    "## !pip install elasticsearch \n",
    "\n",
    "!pip uninstall elasticsearch\n",
    "#!pip install elasticsearch==8.13.0\n",
    "\n",
    "\n",
    "from elasticsearch import Elasticsearch \n",
    "\n",
    "es=Elasticsearch('http://localhost:9200')\n",
    "\n",
    "doc={\n",
    "    \"title\":\"learning elasticsearch\",\n",
    "    \"author\":'kavya kapoor ',\n",
    "    \"tags\":['search','database','reactjs'],\n",
    "    \"published\":True\n",
    "}\n",
    "\n",
    "res=es.index(index='articles',document=doc)\n",
    "\n",
    "print(\"document indexed\",res['result'])\n",
    "\n"
   ]
  },
  {
   "cell_type": "code",
   "execution_count": null,
   "id": "8fa7c9b1",
   "metadata": {},
   "outputs": [],
   "source": [
    "query = {\n",
    "    \"query\": {\n",
    "        \"match\": {\n",
    "            \"title\": \"elasticsearch\"\n",
    "        }\n",
    "    }\n",
    "}\n",
    "\n",
    "res = es.search(index=\"articles\", body=query)\n",
    "\n",
    "for hit in res['hits']['hits']:\n",
    "    print(\"Found:\", hit['_source'])\n"
   ]
  },
  {
   "cell_type": "code",
   "execution_count": null,
   "id": "cc0dd692",
   "metadata": {},
   "outputs": [],
   "source": [
    "res = es.search(index=\"articles\", query={\"match_all\": {}})\n"
   ]
  },
  {
   "cell_type": "code",
   "execution_count": null,
   "id": "0c7b921c",
   "metadata": {},
   "outputs": [],
   "source": []
  },
  {
   "cell_type": "code",
   "execution_count": null,
   "id": "64907c41",
   "metadata": {},
   "outputs": [],
   "source": [
    "es.indices.delete(index=\"articles\")\n",
    " "
   ]
  }
 ],
 "metadata": {
  "kernelspec": {
   "display_name": ".venv",
   "language": "python",
   "name": "python3"
  },
  "language_info": {
   "codemirror_mode": {
    "name": "ipython",
    "version": 3
   },
   "file_extension": ".py",
   "mimetype": "text/x-python",
   "name": "python",
   "nbconvert_exporter": "python",
   "pygments_lexer": "ipython3",
   "version": "3.13.1"
  }
 },
 "nbformat": 4,
 "nbformat_minor": 5
}
