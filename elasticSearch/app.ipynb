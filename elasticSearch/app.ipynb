{
 "cells": [
  {
   "cell_type": "code",
   "execution_count": 3,
   "id": "2f400f4c",
   "metadata": {},
   "outputs": [],
   "source": [
    "## !pip install elasticsearch \n",
    "\n",
    "# !pip uninstall elasticsearch\n",
    "# !pip install elasticsearch==8.13.0\n",
    "\n",
    "\n",
    "# from elasticsearch import Elasticsearch \n",
    "\n",
    "# es=Elasticsearch('http://localhost:9200')\n",
    "\n",
    "# doc={\n",
    "#     \"title\":\"learning elasticsearch\",\n",
    "#     \"author\":'kavya kapoor ',\n",
    "#     \"tags\":['search','database','reactjs'],\n",
    "#     \"published\":True\n",
    "# }\n",
    "\n",
    "# res=es.index(index='articles',document=doc)\n",
    "\n",
    "# print(\"document indexed\",res['result'])\n",
    "\n"
   ]
  },
  {
   "cell_type": "code",
   "execution_count": 4,
   "id": "4026e479",
   "metadata": {},
   "outputs": [],
   "source": [
    "# !pip install elasticsearch==8.13.0 "
   ]
  },
  {
   "cell_type": "code",
   "execution_count": null,
   "id": "cc338da8",
   "metadata": {},
   "outputs": [],
   "source": [
    "from elasticsearch import Elasticsearch \n",
    "\n",
    "es=Elasticsearch('http://localhost:9200')\n",
    "\n",
    "es.indices.create(index='products',ignore=400)\n",
    "\n",
    "#index of document \n",
    "\n",
    "\n"
   ]
  },
  {
   "cell_type": "code",
   "execution_count": null,
   "id": "4973e75c",
   "metadata": {},
   "outputs": [],
   "source": []
  },
  {
   "cell_type": "code",
   "execution_count": null,
   "id": "4be37d4f",
   "metadata": {},
   "outputs": [],
   "source": []
  },
  {
   "cell_type": "code",
   "execution_count": null,
   "id": "fec139f9",
   "metadata": {},
   "outputs": [],
   "source": []
  },
  {
   "cell_type": "code",
   "execution_count": null,
   "id": "b0af7b8e",
   "metadata": {},
   "outputs": [],
   "source": []
  },
  {
   "cell_type": "code",
   "execution_count": null,
   "id": "34d19c0f",
   "metadata": {},
   "outputs": [],
   "source": []
  },
  {
   "cell_type": "code",
   "execution_count": null,
   "id": "268e5fd1",
   "metadata": {},
   "outputs": [],
   "source": []
  },
  {
   "cell_type": "code",
   "execution_count": null,
   "id": "c0a2cde0",
   "metadata": {},
   "outputs": [],
   "source": []
  },
  {
   "cell_type": "code",
   "execution_count": null,
   "id": "175076f7",
   "metadata": {},
   "outputs": [],
   "source": []
  },
  {
   "cell_type": "code",
   "execution_count": null,
   "id": "8fa7c9b1",
   "metadata": {},
   "outputs": [],
   "source": [
    "\n"
   ]
  },
  {
   "cell_type": "code",
   "execution_count": null,
   "id": "cc0dd692",
   "metadata": {},
   "outputs": [],
   "source": [
    "\n"
   ]
  },
  {
   "cell_type": "code",
   "execution_count": null,
   "id": "0c7b921c",
   "metadata": {},
   "outputs": [],
   "source": []
  },
  {
   "cell_type": "code",
   "execution_count": null,
   "id": "64907c41",
   "metadata": {},
   "outputs": [],
   "source": [
    "\n",
    " "
   ]
  }
 ],
 "metadata": {
  "kernelspec": {
   "display_name": ".venv",
   "language": "python",
   "name": "python3"
  },
  "language_info": {
   "codemirror_mode": {
    "name": "ipython",
    "version": 3
   },
   "file_extension": ".py",
   "mimetype": "text/x-python",
   "name": "python",
   "nbconvert_exporter": "python",
   "pygments_lexer": "ipython3",
   "version": "3.13.1"
  }
 },
 "nbformat": 4,
 "nbformat_minor": 5
}
