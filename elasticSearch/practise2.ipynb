{
 "cells": [
  {
   "cell_type": "code",
   "execution_count": 1,
   "id": "62b316f5",
   "metadata": {},
   "outputs": [
    {
     "name": "stdout",
     "output_type": "stream",
     "text": [
      "Requirement already satisfied: elasticsearch==8.13.0 in /Users/ridhimakapoor/.pyenv/versions/3.10.13/lib/python3.10/site-packages (8.13.0)\n",
      "Requirement already satisfied: elastic-transport<9,>=8.13 in /Users/ridhimakapoor/.pyenv/versions/3.10.13/lib/python3.10/site-packages (from elasticsearch==8.13.0) (8.17.1)\n",
      "Requirement already satisfied: urllib3<3,>=1.26.2 in /Users/ridhimakapoor/.pyenv/versions/3.10.13/lib/python3.10/site-packages (from elastic-transport<9,>=8.13->elasticsearch==8.13.0) (2.5.0)\n",
      "Requirement already satisfied: certifi in /Users/ridhimakapoor/.pyenv/versions/3.10.13/lib/python3.10/site-packages (from elastic-transport<9,>=8.13->elasticsearch==8.13.0) (2025.7.14)\n",
      "\n",
      "\u001b[1m[\u001b[0m\u001b[34;49mnotice\u001b[0m\u001b[1;39;49m]\u001b[0m\u001b[39;49m A new release of pip is available: \u001b[0m\u001b[31;49m23.0.1\u001b[0m\u001b[39;49m -> \u001b[0m\u001b[32;49m25.2\u001b[0m\n",
      "\u001b[1m[\u001b[0m\u001b[34;49mnotice\u001b[0m\u001b[1;39;49m]\u001b[0m\u001b[39;49m To update, run: \u001b[0m\u001b[32;49mpip install --upgrade pip\u001b[0m\n"
     ]
    }
   ],
   "source": [
    "!pip install elasticsearch==8.13.0\n",
    "\n"
   ]
  },
  {
   "cell_type": "code",
   "execution_count": 2,
   "id": "66886ea4",
   "metadata": {},
   "outputs": [
    {
     "name": "stdout",
     "output_type": "stream",
     "text": [
      "{'name': 'ee4122306af5', 'cluster_name': 'docker-cluster', 'cluster_uuid': '7D_rnvbeQRWPUawpg1GkLw', 'version': {'number': '8.15.0', 'build_flavor': 'default', 'build_type': 'docker', 'build_hash': '1a77947f34deddb41af25e6f0ddb8e830159c179', 'build_date': '2024-08-05T10:05:34.233336849Z', 'build_snapshot': False, 'lucene_version': '9.11.1', 'minimum_wire_compatibility_version': '7.17.0', 'minimum_index_compatibility_version': '7.0.0'}, 'tagline': 'You Know, for Search'}\n"
     ]
    },
    {
     "name": "stderr",
     "output_type": "stream",
     "text": [
      "/var/folders/jv/y53y8q5n79lbb9098f2lgbjr0000gn/T/ipykernel_16137/1722092907.py:7: DeprecationWarning: Passing transport options in the API method is deprecated. Use 'Elasticsearch.options()' instead.\n",
      "  es.indices.create(index='books',ignore=400)\n"
     ]
    },
    {
     "data": {
      "text/plain": [
       "ObjectApiResponse({'acknowledged': True, 'shards_acknowledged': True, 'index': 'books'})"
      ]
     },
     "execution_count": 2,
     "metadata": {},
     "output_type": "execute_result"
    }
   ],
   "source": [
    "from elasticsearch import Elasticsearch \n",
    "\n",
    "es=Elasticsearch('http://localhost:9200')\n",
    "\n",
    "print(es.info())\n",
    " \n",
    "es.indices.create(index='books',ignore=400)\n"
   ]
  },
  {
   "cell_type": "code",
   "execution_count": null,
   "id": "1ec776f7",
   "metadata": {},
   "outputs": [
    {
     "data": {
      "text/plain": [
       "ObjectApiResponse({'_index': 'books', '_id': '2', '_version': 4, 'result': 'updated', '_shards': {'total': 2, 'successful': 1, 'failed': 0}, '_seq_no': 7, '_primary_term': 1})"
      ]
     },
     "execution_count": 5,
     "metadata": {},
     "output_type": "execute_result"
    }
   ],
   "source": [
    "book1 = {\n",
    "    \"title\": \"Elasticsearch Basics\",\n",
    "    \"author\": \"John Doe\",\n",
    "    \"year\": 2023,\n",
    "    \"tags\": [\"search\", \"database\"]\n",
    "}\n",
    "\n",
    "book2 = {\n",
    "    \"title\": \"Learning Python\",\n",
    "    \"author\": \"Jane Smith\",\n",
    "    \"year\": 2021,\n",
    "    \"tags\": [\"programming\", \"python\"]\n",
    "}\n",
    "\n",
    "\n",
    "es.index(index='books',id=1,document=book1)\n",
    "es.index(index='books',id=2,document=book2)\n",
    "\n",
    "\n",
    "#Index insert a document \n",
    "es.index(index='books',id=1,document=book1)\n",
    "es.index(index='books',id=2,document=book2)\n"
   ]
  },
  {
   "cell_type": "code",
   "execution_count": 7,
   "id": "72bf5c72",
   "metadata": {},
   "outputs": [
    {
     "name": "stdout",
     "output_type": "stream",
     "text": [
      "{'_index': 'books', '_id': '1', '_version': 4, '_seq_no': 6, '_primary_term': 1, 'found': True, '_source': {'title': 'Elasticsearch Basics', 'author': 'John Doe', 'year': 2023, 'tags': ['search', 'database']}}\n",
      "{'title': 'Elasticsearch Basics', 'author': 'John Doe', 'year': 2023, 'tags': ['search', 'database']}\n"
     ]
    }
   ],
   "source": [
    "#get a document \n",
    "res=es.get(index='books',id=1)\n",
    "print(res)\n",
    "print(res['_source'])\n"
   ]
  },
  {
   "cell_type": "code",
   "execution_count": 10,
   "id": "ece97ad2",
   "metadata": {},
   "outputs": [
    {
     "name": "stdout",
     "output_type": "stream",
     "text": [
      "{'title': 'Elasticsearch Basics', 'author': 'John Doe', 'year': 2023, 'tags': ['search', 'database']}\n"
     ]
    }
   ],
   "source": [
    "#basic search : find books by title\n",
    "query={\n",
    "    \"query\":{\n",
    "        \"match\":{\n",
    "            \"title\":\"Elasticsearch Basics\"\n",
    "        }\n",
    "    }\n",
    "}\n",
    "\n",
    "res=es.search(index='books',body=query)\n",
    "\n",
    "for hit in res['hits']['hits']:\n",
    "    print(hit[\"_source\"])\n",
    "    "
   ]
  },
  {
   "cell_type": "code",
   "execution_count": null,
   "id": "c27ad413",
   "metadata": {},
   "outputs": [
    {
     "name": "stdout",
     "output_type": "stream",
     "text": [
      "{'title': 'Elasticsearch Basics', 'author': 'John Doe', 'year': 2023, 'tags': ['search', 'database']}\n"
     ]
    }
   ],
   "source": [
    "#update a document \n",
    "\n",
    "es.update(index='books',id=1,doc={\"doc\":{'year':2022}})\n",
    "\n"
   ]
  }
 ],
 "metadata": {
  "kernelspec": {
   "display_name": "3.10.13",
   "language": "python",
   "name": "python3"
  },
  "language_info": {
   "codemirror_mode": {
    "name": "ipython",
    "version": 3
   },
   "file_extension": ".py",
   "mimetype": "text/x-python",
   "name": "python",
   "nbconvert_exporter": "python",
   "pygments_lexer": "ipython3",
   "version": "3.10.13"
  }
 },
 "nbformat": 4,
 "nbformat_minor": 5
}
