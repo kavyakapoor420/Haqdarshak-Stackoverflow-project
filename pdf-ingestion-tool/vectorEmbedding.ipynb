{
 "cells": [
  {
   "cell_type": "code",
   "execution_count": null,
   "id": "797f2a06",
   "metadata": {},
   "outputs": [],
   "source": [
    "# !pip install elasticsearch==8.13.0\n",
    "#!pip install  transformers torch sentence-transformers numpy "
   ]
  },
  {
   "cell_type": "code",
   "execution_count": null,
   "id": "116e4f4c",
   "metadata": {},
   "outputs": [],
   "source": [
    "from sentence_transformers import SentenceTransformer \n",
    "import numpy as np\n",
    "\n",
    "Hugging_face_token=''\n",
    "\n",
    "model=SentenceTransformer(\n",
    "    \"intfloat/multilingual-e5-base\",\n",
    "    use_auth_token=Hugging_face_token\n",
    ")\n",
    "\n",
    "def chunk_text(text,maxLength=400):\n",
    "    words=text.split() \n",
    "    chunks=[]\n",
    "    current_chunk=[]\n",
    "    current_length=0\n",
    "\n",
    "\n",
    "    for word in words:\n",
    "        current_length+=len(word)+1 \n",
    "        if current_length>maxLength:\n",
    "            chunks.append(' '.join(current_chunk))\n",
    "            current_chunk=[word]\n",
    "            current_length=len(word)+1 \n",
    "        else:\n",
    "            current_chunk.append(word)\n",
    "        if current_chunk:\n",
    "            chunks.append(' '.join(current_chunk))\n",
    "        return chunks "
   ]
  },
  {
   "cell_type": "code",
   "execution_count": null,
   "id": "4de804bd",
   "metadata": {},
   "outputs": [],
   "source": [
    "#read the md file data \n",
    "with open('parsed-doc/Sukanya Samriddhi Account Scheme 2019 English (1)-with-image-links.md', 'r', encoding='utf-8') as file:\n",
    "     text=file.read() \n",
    "\n",
    "chunks=chunk_text(text)\n",
    "embeddings=[]\n",
    "\n",
    "for chunk in chunks:\n",
    "    embedding=model.encode(f\"passage:{chunk}\",noramlize_embeddings=True)\n",
    "    embedding.append(embedding.tolist())\n",
    "\n",
    "\n",
    "np.save('embedding.npy',embedding)\n",
    "\n",
    "print(f\"number of chunks {len(chunks)}\")\n",
    "print(f\"sample embedding dimmension :{len(embedding[0])}\")\n"
   ]
  },
  {
   "cell_type": "code",
   "execution_count": null,
   "id": "d361997a",
   "metadata": {},
   "outputs": [],
   "source": [
    "from elasticsearch import Elasticsearch \n",
    "\n",
    "es=Elasticsearch(['http://localhost:9200'])\n",
    "\n",
    "mappings={\n",
    "    \"properties\":{\n",
    "        \"text\":{\"type\":\"text\"},\n",
    "        \"embedding\":{\n",
    "            \"type\":\"dense_vector\",\n",
    "            \"dims\":768,\n",
    "            \"index\":True,\n",
    "            \"similarity\":\"cosine\"\n",
    "        },\n",
    "        \"language\":{\"type\":\"keyword\"}\n",
    "    }\n",
    "}\n",
    "\n",
    "es.indices.create(index='markdown_vectors',body={\"mappings\":mappings},ignore=400)\n",
    "\n",
    "print(\"Index 'markdown_vectors' created with 768-dimensional dense_vector field.\") \n"
   ]
  },
  {
   "cell_type": "code",
   "execution_count": null,
   "id": "727831bc",
   "metadata": {},
   "outputs": [],
   "source": []
  },
  {
   "cell_type": "code",
   "execution_count": null,
   "id": "d82bd857",
   "metadata": {},
   "outputs": [],
   "source": []
  },
  {
   "cell_type": "code",
   "execution_count": null,
   "id": "459bc987",
   "metadata": {},
   "outputs": [],
   "source": []
  },
  {
   "cell_type": "code",
   "execution_count": null,
   "id": "c6a18633",
   "metadata": {},
   "outputs": [],
   "source": []
  },
  {
   "cell_type": "code",
   "execution_count": null,
   "id": "a4086781",
   "metadata": {},
   "outputs": [],
   "source": []
  },
  {
   "cell_type": "code",
   "execution_count": null,
   "id": "e116d6a1",
   "metadata": {},
   "outputs": [],
   "source": []
  },
  {
   "cell_type": "code",
   "execution_count": null,
   "id": "29a56525",
   "metadata": {},
   "outputs": [],
   "source": []
  },
  {
   "cell_type": "code",
   "execution_count": null,
   "id": "6899c9f3",
   "metadata": {},
   "outputs": [],
   "source": []
  }
 ],
 "metadata": {
  "language_info": {
   "name": "python"
  }
 },
 "nbformat": 4,
 "nbformat_minor": 5
}
